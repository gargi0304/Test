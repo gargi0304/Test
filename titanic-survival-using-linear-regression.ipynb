{
 "cells": [
  {
   "cell_type": "markdown",
   "id": "860b6b00",
   "metadata": {
    "papermill": {
     "duration": 0.026946,
     "end_time": "2021-07-31T11:00:42.527234",
     "exception": false,
     "start_time": "2021-07-31T11:00:42.500288",
     "status": "completed"
    },
    "tags": []
   },
   "source": [
    "# **Inporting important Libraries**"
   ]
  },
  {
   "cell_type": "code",
   "execution_count": 1,
   "id": "3cdf9464",
   "metadata": {
    "execution": {
     "iopub.execute_input": "2021-07-31T11:00:42.591244Z",
     "iopub.status.busy": "2021-07-31T11:00:42.590445Z",
     "iopub.status.idle": "2021-07-31T11:00:43.914066Z",
     "shell.execute_reply": "2021-07-31T11:00:43.913231Z",
     "shell.execute_reply.started": "2021-07-31T10:58:11.919436Z"
    },
    "papermill": {
     "duration": 1.358466,
     "end_time": "2021-07-31T11:00:43.914261",
     "exception": false,
     "start_time": "2021-07-31T11:00:42.555795",
     "status": "completed"
    },
    "tags": []
   },
   "outputs": [],
   "source": [
    "import numpy as np\n",
    "import pandas as pd\n",
    "import seaborn as sns\n",
    "import matplotlib as plt\n",
    "import math\n",
    "from sklearn.model_selection import train_test_split\n",
    "from sklearn.linear_model import LogisticRegression\n",
    "from sklearn.metrics import confusion_matrix\n",
    "from sklearn.metrics import accuracy_score"
   ]
  },
  {
   "cell_type": "markdown",
   "id": "ea6654b5",
   "metadata": {
    "papermill": {
     "duration": 0.026512,
     "end_time": "2021-07-31T11:00:43.966710",
     "exception": false,
     "start_time": "2021-07-31T11:00:43.940198",
     "status": "completed"
    },
    "tags": []
   },
   "source": [
    "# Preparing the Training data"
   ]
  },
  {
   "cell_type": "code",
   "execution_count": 2,
   "id": "1bb46c6d",
   "metadata": {
    "execution": {
     "iopub.execute_input": "2021-07-31T11:00:44.022986Z",
     "iopub.status.busy": "2021-07-31T11:00:44.022316Z",
     "iopub.status.idle": "2021-07-31T11:00:44.039020Z",
     "shell.execute_reply": "2021-07-31T11:00:44.038513Z",
     "shell.execute_reply.started": "2021-07-31T10:58:12.359432Z"
    },
    "papermill": {
     "duration": 0.04689,
     "end_time": "2021-07-31T11:00:44.039181",
     "exception": false,
     "start_time": "2021-07-31T11:00:43.992291",
     "status": "completed"
    },
    "tags": []
   },
   "outputs": [],
   "source": [
    "train_data = pd.read_csv(\"../input/titanic/train.csv\")"
   ]
  },
  {
   "cell_type": "code",
   "execution_count": 3,
   "id": "50592e32",
   "metadata": {
    "execution": {
     "iopub.execute_input": "2021-07-31T11:00:44.099750Z",
     "iopub.status.busy": "2021-07-31T11:00:44.099129Z",
     "iopub.status.idle": "2021-07-31T11:00:44.123026Z",
     "shell.execute_reply": "2021-07-31T11:00:44.122354Z",
     "shell.execute_reply.started": "2021-07-31T10:58:12.581428Z"
    },
    "papermill": {
     "duration": 0.058666,
     "end_time": "2021-07-31T11:00:44.123159",
     "exception": false,
     "start_time": "2021-07-31T11:00:44.064493",
     "status": "completed"
    },
    "tags": []
   },
   "outputs": [
    {
     "data": {
      "text/html": [
       "<div>\n",
       "<style scoped>\n",
       "    .dataframe tbody tr th:only-of-type {\n",
       "        vertical-align: middle;\n",
       "    }\n",
       "\n",
       "    .dataframe tbody tr th {\n",
       "        vertical-align: top;\n",
       "    }\n",
       "\n",
       "    .dataframe thead th {\n",
       "        text-align: right;\n",
       "    }\n",
       "</style>\n",
       "<table border=\"1\" class=\"dataframe\">\n",
       "  <thead>\n",
       "    <tr style=\"text-align: right;\">\n",
       "      <th></th>\n",
       "      <th>PassengerId</th>\n",
       "      <th>Survived</th>\n",
       "      <th>Pclass</th>\n",
       "      <th>Name</th>\n",
       "      <th>Sex</th>\n",
       "      <th>Age</th>\n",
       "      <th>SibSp</th>\n",
       "      <th>Parch</th>\n",
       "      <th>Ticket</th>\n",
       "      <th>Fare</th>\n",
       "      <th>Cabin</th>\n",
       "      <th>Embarked</th>\n",
       "    </tr>\n",
       "  </thead>\n",
       "  <tbody>\n",
       "    <tr>\n",
       "      <th>0</th>\n",
       "      <td>1</td>\n",
       "      <td>0</td>\n",
       "      <td>3</td>\n",
       "      <td>Braund, Mr. Owen Harris</td>\n",
       "      <td>male</td>\n",
       "      <td>22.0</td>\n",
       "      <td>1</td>\n",
       "      <td>0</td>\n",
       "      <td>A/5 21171</td>\n",
       "      <td>7.2500</td>\n",
       "      <td>NaN</td>\n",
       "      <td>S</td>\n",
       "    </tr>\n",
       "    <tr>\n",
       "      <th>1</th>\n",
       "      <td>2</td>\n",
       "      <td>1</td>\n",
       "      <td>1</td>\n",
       "      <td>Cumings, Mrs. John Bradley (Florence Briggs Th...</td>\n",
       "      <td>female</td>\n",
       "      <td>38.0</td>\n",
       "      <td>1</td>\n",
       "      <td>0</td>\n",
       "      <td>PC 17599</td>\n",
       "      <td>71.2833</td>\n",
       "      <td>C85</td>\n",
       "      <td>C</td>\n",
       "    </tr>\n",
       "    <tr>\n",
       "      <th>2</th>\n",
       "      <td>3</td>\n",
       "      <td>1</td>\n",
       "      <td>3</td>\n",
       "      <td>Heikkinen, Miss. Laina</td>\n",
       "      <td>female</td>\n",
       "      <td>26.0</td>\n",
       "      <td>0</td>\n",
       "      <td>0</td>\n",
       "      <td>STON/O2. 3101282</td>\n",
       "      <td>7.9250</td>\n",
       "      <td>NaN</td>\n",
       "      <td>S</td>\n",
       "    </tr>\n",
       "    <tr>\n",
       "      <th>3</th>\n",
       "      <td>4</td>\n",
       "      <td>1</td>\n",
       "      <td>1</td>\n",
       "      <td>Futrelle, Mrs. Jacques Heath (Lily May Peel)</td>\n",
       "      <td>female</td>\n",
       "      <td>35.0</td>\n",
       "      <td>1</td>\n",
       "      <td>0</td>\n",
       "      <td>113803</td>\n",
       "      <td>53.1000</td>\n",
       "      <td>C123</td>\n",
       "      <td>S</td>\n",
       "    </tr>\n",
       "    <tr>\n",
       "      <th>4</th>\n",
       "      <td>5</td>\n",
       "      <td>0</td>\n",
       "      <td>3</td>\n",
       "      <td>Allen, Mr. William Henry</td>\n",
       "      <td>male</td>\n",
       "      <td>35.0</td>\n",
       "      <td>0</td>\n",
       "      <td>0</td>\n",
       "      <td>373450</td>\n",
       "      <td>8.0500</td>\n",
       "      <td>NaN</td>\n",
       "      <td>S</td>\n",
       "    </tr>\n",
       "  </tbody>\n",
       "</table>\n",
       "</div>"
      ],
      "text/plain": [
       "   PassengerId  Survived  Pclass  \\\n",
       "0            1         0       3   \n",
       "1            2         1       1   \n",
       "2            3         1       3   \n",
       "3            4         1       1   \n",
       "4            5         0       3   \n",
       "\n",
       "                                                Name     Sex   Age  SibSp  \\\n",
       "0                            Braund, Mr. Owen Harris    male  22.0      1   \n",
       "1  Cumings, Mrs. John Bradley (Florence Briggs Th...  female  38.0      1   \n",
       "2                             Heikkinen, Miss. Laina  female  26.0      0   \n",
       "3       Futrelle, Mrs. Jacques Heath (Lily May Peel)  female  35.0      1   \n",
       "4                           Allen, Mr. William Henry    male  35.0      0   \n",
       "\n",
       "   Parch            Ticket     Fare Cabin Embarked  \n",
       "0      0         A/5 21171   7.2500   NaN        S  \n",
       "1      0          PC 17599  71.2833   C85        C  \n",
       "2      0  STON/O2. 3101282   7.9250   NaN        S  \n",
       "3      0            113803  53.1000  C123        S  \n",
       "4      0            373450   8.0500   NaN        S  "
      ]
     },
     "execution_count": 3,
     "metadata": {},
     "output_type": "execute_result"
    }
   ],
   "source": [
    "train_data.head(5)"
   ]
  },
  {
   "cell_type": "markdown",
   "id": "eeffba7e",
   "metadata": {
    "papermill": {
     "duration": 0.027261,
     "end_time": "2021-07-31T11:00:44.177186",
     "exception": false,
     "start_time": "2021-07-31T11:00:44.149925",
     "status": "completed"
    },
    "tags": []
   },
   "source": [
    "# Analysis of Sex :\n",
    "**74.2% of the women survived**\n",
    "\n",
    "**Only 18.8% of the men survived**"
   ]
  },
  {
   "cell_type": "code",
   "execution_count": 4,
   "id": "f796a7d6",
   "metadata": {
    "execution": {
     "iopub.execute_input": "2021-07-31T11:00:44.236280Z",
     "iopub.status.busy": "2021-07-31T11:00:44.235662Z",
     "iopub.status.idle": "2021-07-31T11:00:44.429633Z",
     "shell.execute_reply": "2021-07-31T11:00:44.430074Z",
     "shell.execute_reply.started": "2021-07-31T10:58:12.993019Z"
    },
    "papermill": {
     "duration": 0.225822,
     "end_time": "2021-07-31T11:00:44.430240",
     "exception": false,
     "start_time": "2021-07-31T11:00:44.204418",
     "status": "completed"
    },
    "tags": []
   },
   "outputs": [
    {
     "data": {
      "text/html": [
       "<div>\n",
       "<style scoped>\n",
       "    .dataframe tbody tr th:only-of-type {\n",
       "        vertical-align: middle;\n",
       "    }\n",
       "\n",
       "    .dataframe tbody tr th {\n",
       "        vertical-align: top;\n",
       "    }\n",
       "\n",
       "    .dataframe thead th {\n",
       "        text-align: right;\n",
       "    }\n",
       "</style>\n",
       "<table border=\"1\" class=\"dataframe\">\n",
       "  <thead>\n",
       "    <tr style=\"text-align: right;\">\n",
       "      <th></th>\n",
       "      <th>Sex</th>\n",
       "      <th>Survived</th>\n",
       "    </tr>\n",
       "  </thead>\n",
       "  <tbody>\n",
       "    <tr>\n",
       "      <th>0</th>\n",
       "      <td>female</td>\n",
       "      <td>0.742038</td>\n",
       "    </tr>\n",
       "    <tr>\n",
       "      <th>1</th>\n",
       "      <td>male</td>\n",
       "      <td>0.188908</td>\n",
       "    </tr>\n",
       "  </tbody>\n",
       "</table>\n",
       "</div>"
      ],
      "text/plain": [
       "      Sex  Survived\n",
       "0  female  0.742038\n",
       "1    male  0.188908"
      ]
     },
     "metadata": {},
     "output_type": "display_data"
    },
    {
     "data": {
      "image/png": "[encoded data removed]",
      "text/plain": [
       "<Figure size 432x288 with 1 Axes>"
      ]
     },
     "metadata": {
      "needs_background": "light"
     },
     "output_type": "display_data"
    }
   ],
   "source": [
    "sns.countplot(x=train_data['Sex'], hue=train_data['Survived'])\n",
    "display(train_data[['Sex', 'Survived']].groupby(['Sex'], as_index=False).mean())"
   ]
  },
  {
   "cell_type": "markdown",
   "id": "dd677a92",
   "metadata": {
    "papermill": {
     "duration": 0.027321,
     "end_time": "2021-07-31T11:00:44.485273",
     "exception": false,
     "start_time": "2021-07-31T11:00:44.457952",
     "status": "completed"
    },
    "tags": []
   },
   "source": [
    "# **Analysis on the basis of Pclass**"
   ]
  },
  {
   "cell_type": "code",
   "execution_count": 5,
   "id": "abf08253",
   "metadata": {
    "execution": {
     "iopub.execute_input": "2021-07-31T11:00:44.542377Z",
     "iopub.status.busy": "2021-07-31T11:00:44.541770Z",
     "iopub.status.idle": "2021-07-31T11:00:44.709294Z",
     "shell.execute_reply": "2021-07-31T11:00:44.709868Z",
     "shell.execute_reply.started": "2021-07-31T10:58:13.411694Z"
    },
    "papermill": {
     "duration": 0.197574,
     "end_time": "2021-07-31T11:00:44.710033",
     "exception": false,
     "start_time": "2021-07-31T11:00:44.512459",
     "status": "completed"
    },
    "tags": []
   },
   "outputs": [
    {
     "data": {
      "text/html": [
       "<div>\n",
       "<style scoped>\n",
       "    .dataframe tbody tr th:only-of-type {\n",
       "        vertical-align: middle;\n",
       "    }\n",
       "\n",
       "    .dataframe tbody tr th {\n",
       "        vertical-align: top;\n",
       "    }\n",
       "\n",
       "    .dataframe thead th {\n",
       "        text-align: right;\n",
       "    }\n",
       "</style>\n",
       "<table border=\"1\" class=\"dataframe\">\n",
       "  <thead>\n",
       "    <tr style=\"text-align: right;\">\n",
       "      <th></th>\n",
       "      <th>Pclass</th>\n",
       "      <th>Survived</th>\n",
       "    </tr>\n",
       "  </thead>\n",
       "  <tbody>\n",
       "    <tr>\n",
       "      <th>0</th>\n",
       "      <td>1</td>\n",
       "      <td>0.629630</td>\n",
       "    </tr>\n",
       "    <tr>\n",
       "      <th>1</th>\n",
       "      <td>2</td>\n",
       "      <td>0.472826</td>\n",
       "    </tr>\n",
       "    <tr>\n",
       "      <th>2</th>\n",
       "      <td>3</td>\n",
       "      <td>0.242363</td>\n",
       "    </tr>\n",
       "  </tbody>\n",
       "</table>\n",
       "</div>"
      ],
      "text/plain": [
       "   Pclass  Survived\n",
       "0       1  0.629630\n",
       "1       2  0.472826\n",
       "2       3  0.242363"
      ]
     },
     "metadata": {},
     "output_type": "display_data"
    },
    {
     "data": {
      "image/png": "[encoded data removed]",
      "text/plain": [
       "<Figure size 432x288 with 1 Axes>"
      ]
     },
     "metadata": {
      "needs_background": "light"
     },
     "output_type": "display_data"
    }
   ],
   "source": [
    "sns.countplot(x=train_data['Pclass'], hue=train_data['Survived'])\n",
    "display(train_data[['Pclass', 'Survived']].groupby(['Pclass'], as_index=False).mean())"
   ]
  },
  {
   "cell_type": "markdown",
   "id": "6613f8bc",
   "metadata": {
    "papermill": {
     "duration": 0.028607,
     "end_time": "2021-07-31T11:00:44.767602",
     "exception": false,
     "start_time": "2021-07-31T11:00:44.738995",
     "status": "completed"
    },
    "tags": []
   },
   "source": [
    "# Dropping useless columns & replacing null values in Embarked"
   ]
  },
  {
   "cell_type": "code",
   "execution_count": 6,
   "id": "e32c4441",
   "metadata": {
    "execution": {
     "iopub.execute_input": "2021-07-31T11:00:44.827808Z",
     "iopub.status.busy": "2021-07-31T11:00:44.827203Z",
     "iopub.status.idle": "2021-07-31T11:00:44.834247Z",
     "shell.execute_reply": "2021-07-31T11:00:44.833637Z",
     "shell.execute_reply.started": "2021-07-31T10:58:13.798950Z"
    },
    "papermill": {
     "duration": 0.037288,
     "end_time": "2021-07-31T11:00:44.834386",
     "exception": false,
     "start_time": "2021-07-31T11:00:44.797098",
     "status": "completed"
    },
    "tags": []
   },
   "outputs": [],
   "source": [
    "train_data1 = train_data.drop([\"PassengerId\",\"Cabin\",\"Name\",\"Ticket\",\"Parch\"],axis=1)\n",
    "train_data1['Embarked'] = train_data1['Embarked'].fillna('C')"
   ]
  },
  {
   "cell_type": "markdown",
   "id": "6eff657c",
   "metadata": {
    "papermill": {
     "duration": 0.027134,
     "end_time": "2021-07-31T11:00:44.890754",
     "exception": false,
     "start_time": "2021-07-31T11:00:44.863620",
     "status": "completed"
    },
    "tags": []
   },
   "source": [
    "****Converting string values in Sex and Embarked to 0s, 1s and 2s****"
   ]
  },
  {
   "cell_type": "code",
   "execution_count": 7,
   "id": "65c30438",
   "metadata": {
    "execution": {
     "iopub.execute_input": "2021-07-31T11:00:44.957474Z",
     "iopub.status.busy": "2021-07-31T11:00:44.956580Z",
     "iopub.status.idle": "2021-07-31T11:00:44.959531Z",
     "shell.execute_reply": "2021-07-31T11:00:44.959024Z",
     "shell.execute_reply.started": "2021-07-31T10:58:14.142985Z"
    },
    "papermill": {
     "duration": 0.041115,
     "end_time": "2021-07-31T11:00:44.959699",
     "exception": false,
     "start_time": "2021-07-31T11:00:44.918584",
     "status": "completed"
    },
    "tags": []
   },
   "outputs": [],
   "source": [
    "train_data1['Sex'].replace('female', 0,inplace=True)\n",
    "train_data1['Sex'].replace('male', 1,inplace=True)\n",
    "train_data1['Embarked'].replace('S', 0,inplace=True)\n",
    "train_data1['Embarked'].replace('C', 1,inplace=True)\n",
    "train_data1['Embarked'].replace('Q', 2,inplace=True)\n",
    "train_data1[\"Age\"].fillna(\"39\", inplace = True)"
   ]
  },
  {
   "cell_type": "code",
   "execution_count": 8,
   "id": "709d7ae2",
   "metadata": {
    "execution": {
     "iopub.execute_input": "2021-07-31T11:00:45.026322Z",
     "iopub.status.busy": "2021-07-31T11:00:45.025649Z",
     "iopub.status.idle": "2021-07-31T11:00:45.028569Z",
     "shell.execute_reply": "2021-07-31T11:00:45.029092Z",
     "shell.execute_reply.started": "2021-07-31T10:58:14.375966Z"
    },
    "papermill": {
     "duration": 0.041598,
     "end_time": "2021-07-31T11:00:45.029253",
     "exception": false,
     "start_time": "2021-07-31T11:00:44.987655",
     "status": "completed"
    },
    "tags": []
   },
   "outputs": [
    {
     "data": {
      "text/html": [
       "<div>\n",
       "<style scoped>\n",
       "    .dataframe tbody tr th:only-of-type {\n",
       "        vertical-align: middle;\n",
       "    }\n",
       "\n",
       "    .dataframe tbody tr th {\n",
       "        vertical-align: top;\n",
       "    }\n",
       "\n",
       "    .dataframe thead th {\n",
       "        text-align: right;\n",
       "    }\n",
       "</style>\n",
       "<table border=\"1\" class=\"dataframe\">\n",
       "  <thead>\n",
       "    <tr style=\"text-align: right;\">\n",
       "      <th></th>\n",
       "      <th>Survived</th>\n",
       "      <th>Pclass</th>\n",
       "      <th>Sex</th>\n",
       "      <th>Age</th>\n",
       "      <th>SibSp</th>\n",
       "      <th>Fare</th>\n",
       "      <th>Embarked</th>\n",
       "    </tr>\n",
       "  </thead>\n",
       "  <tbody>\n",
       "    <tr>\n",
       "      <th>0</th>\n",
       "      <td>0</td>\n",
       "      <td>3</td>\n",
       "      <td>1</td>\n",
       "      <td>22.0</td>\n",
       "      <td>1</td>\n",
       "      <td>7.2500</td>\n",
       "      <td>0</td>\n",
       "    </tr>\n",
       "    <tr>\n",
       "      <th>1</th>\n",
       "      <td>1</td>\n",
       "      <td>1</td>\n",
       "      <td>0</td>\n",
       "      <td>38.0</td>\n",
       "      <td>1</td>\n",
       "      <td>71.2833</td>\n",
       "      <td>1</td>\n",
       "    </tr>\n",
       "    <tr>\n",
       "      <th>2</th>\n",
       "      <td>1</td>\n",
       "      <td>3</td>\n",
       "      <td>0</td>\n",
       "      <td>26.0</td>\n",
       "      <td>0</td>\n",
       "      <td>7.9250</td>\n",
       "      <td>0</td>\n",
       "    </tr>\n",
       "    <tr>\n",
       "      <th>3</th>\n",
       "      <td>1</td>\n",
       "      <td>1</td>\n",
       "      <td>0</td>\n",
       "      <td>35.0</td>\n",
       "      <td>1</td>\n",
       "      <td>53.1000</td>\n",
       "      <td>0</td>\n",
       "    </tr>\n",
       "    <tr>\n",
       "      <th>4</th>\n",
       "      <td>0</td>\n",
       "      <td>3</td>\n",
       "      <td>1</td>\n",
       "      <td>35.0</td>\n",
       "      <td>0</td>\n",
       "      <td>8.0500</td>\n",
       "      <td>0</td>\n",
       "    </tr>\n",
       "  </tbody>\n",
       "</table>\n",
       "</div>"
      ],
      "text/plain": [
       "   Survived  Pclass  Sex   Age  SibSp     Fare  Embarked\n",
       "0         0       3    1  22.0      1   7.2500         0\n",
       "1         1       1    0  38.0      1  71.2833         1\n",
       "2         1       3    0  26.0      0   7.9250         0\n",
       "3         1       1    0  35.0      1  53.1000         0\n",
       "4         0       3    1  35.0      0   8.0500         0"
      ]
     },
     "execution_count": 8,
     "metadata": {},
     "output_type": "execute_result"
    }
   ],
   "source": [
    "train_data1.head(5)"
   ]
  },
  {
   "cell_type": "markdown",
   "id": "dfc2556d",
   "metadata": {
    "papermill": {
     "duration": 0.027829,
     "end_time": "2021-07-31T11:00:45.086713",
     "exception": false,
     "start_time": "2021-07-31T11:00:45.058884",
     "status": "completed"
    },
    "tags": []
   },
   "source": [
    "****Dropping null values****"
   ]
  },
  {
   "cell_type": "code",
   "execution_count": 9,
   "id": "6e69eb19",
   "metadata": {
    "execution": {
     "iopub.execute_input": "2021-07-31T11:00:45.145975Z",
     "iopub.status.busy": "2021-07-31T11:00:45.145402Z",
     "iopub.status.idle": "2021-07-31T11:00:45.151798Z",
     "shell.execute_reply": "2021-07-31T11:00:45.152251Z",
     "shell.execute_reply.started": "2021-07-31T10:58:14.705033Z"
    },
    "papermill": {
     "duration": 0.037469,
     "end_time": "2021-07-31T11:00:45.152409",
     "exception": false,
     "start_time": "2021-07-31T11:00:45.114940",
     "status": "completed"
    },
    "tags": []
   },
   "outputs": [],
   "source": [
    "train_data1.dropna(inplace=True)"
   ]
  },
  {
   "cell_type": "code",
   "execution_count": 10,
   "id": "24edd685",
   "metadata": {
    "execution": {
     "iopub.execute_input": "2021-07-31T11:00:45.211415Z",
     "iopub.status.busy": "2021-07-31T11:00:45.210804Z",
     "iopub.status.idle": "2021-07-31T11:00:45.217873Z",
     "shell.execute_reply": "2021-07-31T11:00:45.218352Z",
     "shell.execute_reply.started": "2021-07-31T10:58:14.921977Z"
    },
    "papermill": {
     "duration": 0.037841,
     "end_time": "2021-07-31T11:00:45.218527",
     "exception": false,
     "start_time": "2021-07-31T11:00:45.180686",
     "status": "completed"
    },
    "tags": []
   },
   "outputs": [
    {
     "data": {
      "text/plain": [
       "Survived    0\n",
       "Pclass      0\n",
       "Sex         0\n",
       "Age         0\n",
       "SibSp       0\n",
       "Fare        0\n",
       "Embarked    0\n",
       "dtype: int64"
      ]
     },
     "execution_count": 10,
     "metadata": {},
     "output_type": "execute_result"
    }
   ],
   "source": [
    "train_data1.isnull().sum()"
   ]
  },
  {
   "cell_type": "code",
   "execution_count": 11,
   "id": "42bc2417",
   "metadata": {
    "execution": {
     "iopub.execute_input": "2021-07-31T11:00:45.278104Z",
     "iopub.status.busy": "2021-07-31T11:00:45.277507Z",
     "iopub.status.idle": "2021-07-31T11:00:45.293890Z",
     "shell.execute_reply": "2021-07-31T11:00:45.293297Z",
     "shell.execute_reply.started": "2021-07-31T10:58:15.147159Z"
    },
    "papermill": {
     "duration": 0.046779,
     "end_time": "2021-07-31T11:00:45.294021",
     "exception": false,
     "start_time": "2021-07-31T11:00:45.247242",
     "status": "completed"
    },
    "tags": []
   },
   "outputs": [
    {
     "name": "stdout",
     "output_type": "stream",
     "text": [
      "<class 'pandas.core.frame.DataFrame'>\n",
      "Int64Index: 891 entries, 0 to 890\n",
      "Data columns (total 7 columns):\n",
      " #   Column    Non-Null Count  Dtype  \n",
      "---  ------    --------------  -----  \n",
      " 0   Survived  891 non-null    int64  \n",
      " 1   Pclass    891 non-null    int64  \n",
      " 2   Sex       891 non-null    int64  \n",
      " 3   Age       891 non-null    object \n",
      " 4   SibSp     891 non-null    int64  \n",
      " 5   Fare      891 non-null    float64\n",
      " 6   Embarked  891 non-null    int64  \n",
      "dtypes: float64(1), int64(5), object(1)\n",
      "memory usage: 55.7+ KB\n"
     ]
    }
   ],
   "source": [
    "train_data1.info()"
   ]
  },
  {
   "cell_type": "code",
   "execution_count": 12,
   "id": "8b6e3a4d",
   "metadata": {
    "execution": {
     "iopub.execute_input": "2021-07-31T11:00:45.357118Z",
     "iopub.status.busy": "2021-07-31T11:00:45.356505Z",
     "iopub.status.idle": "2021-07-31T11:00:45.359506Z",
     "shell.execute_reply": "2021-07-31T11:00:45.359068Z",
     "shell.execute_reply.started": "2021-07-31T10:58:15.340439Z"
    },
    "papermill": {
     "duration": 0.036877,
     "end_time": "2021-07-31T11:00:45.359660",
     "exception": false,
     "start_time": "2021-07-31T11:00:45.322783",
     "status": "completed"
    },
    "tags": []
   },
   "outputs": [],
   "source": [
    "x_train = train_data1.drop(\"Survived\",axis=1)\n",
    "y_train = train_data1[\"Survived\"]"
   ]
  },
  {
   "cell_type": "markdown",
   "id": "d1ea9879",
   "metadata": {
    "papermill": {
     "duration": 0.028089,
     "end_time": "2021-07-31T11:00:45.416485",
     "exception": false,
     "start_time": "2021-07-31T11:00:45.388396",
     "status": "completed"
    },
    "tags": []
   },
   "source": [
    "# **Preparing the testing data:**"
   ]
  },
  {
   "cell_type": "code",
   "execution_count": 13,
   "id": "85777cee",
   "metadata": {
    "execution": {
     "iopub.execute_input": "2021-07-31T11:00:45.478603Z",
     "iopub.status.busy": "2021-07-31T11:00:45.477954Z",
     "iopub.status.idle": "2021-07-31T11:00:45.490391Z",
     "shell.execute_reply": "2021-07-31T11:00:45.490963Z",
     "shell.execute_reply.started": "2021-07-31T10:58:15.698618Z"
    },
    "papermill": {
     "duration": 0.046047,
     "end_time": "2021-07-31T11:00:45.491141",
     "exception": false,
     "start_time": "2021-07-31T11:00:45.445094",
     "status": "completed"
    },
    "tags": []
   },
   "outputs": [],
   "source": [
    "test_data = pd.read_csv(\"../input/titanic/test.csv\")"
   ]
  },
  {
   "cell_type": "code",
   "execution_count": 14,
   "id": "e8341aac",
   "metadata": {
    "execution": {
     "iopub.execute_input": "2021-07-31T11:00:45.552526Z",
     "iopub.status.busy": "2021-07-31T11:00:45.551919Z",
     "iopub.status.idle": "2021-07-31T11:00:45.566302Z",
     "shell.execute_reply": "2021-07-31T11:00:45.566972Z",
     "shell.execute_reply.started": "2021-07-31T10:58:15.906866Z"
    },
    "papermill": {
     "duration": 0.046921,
     "end_time": "2021-07-31T11:00:45.567208",
     "exception": false,
     "start_time": "2021-07-31T11:00:45.520287",
     "status": "completed"
    },
    "tags": []
   },
   "outputs": [
    {
     "name": "stdout",
     "output_type": "stream",
     "text": [
      "<class 'pandas.core.frame.DataFrame'>\n",
      "RangeIndex: 418 entries, 0 to 417\n",
      "Data columns (total 11 columns):\n",
      " #   Column       Non-Null Count  Dtype  \n",
      "---  ------       --------------  -----  \n",
      " 0   PassengerId  418 non-null    int64  \n",
      " 1   Pclass       418 non-null    int64  \n",
      " 2   Name         418 non-null    object \n",
      " 3   Sex          418 non-null    object \n",
      " 4   Age          332 non-null    float64\n",
      " 5   SibSp        418 non-null    int64  \n",
      " 6   Parch        418 non-null    int64  \n",
      " 7   Ticket       418 non-null    object \n",
      " 8   Fare         417 non-null    float64\n",
      " 9   Cabin        91 non-null     object \n",
      " 10  Embarked     418 non-null    object \n",
      "dtypes: float64(2), int64(4), object(5)\n",
      "memory usage: 36.0+ KB\n"
     ]
    }
   ],
   "source": [
    "test_data.info()"
   ]
  },
  {
   "cell_type": "markdown",
   "id": "b037eb7f",
   "metadata": {
    "papermill": {
     "duration": 0.029243,
     "end_time": "2021-07-31T11:00:45.627881",
     "exception": false,
     "start_time": "2021-07-31T11:00:45.598638",
     "status": "completed"
    },
    "tags": []
   },
   "source": [
    "****Dropping a few columns****"
   ]
  },
  {
   "cell_type": "code",
   "execution_count": 15,
   "id": "06617618",
   "metadata": {
    "execution": {
     "iopub.execute_input": "2021-07-31T11:00:45.689847Z",
     "iopub.status.busy": "2021-07-31T11:00:45.689221Z",
     "iopub.status.idle": "2021-07-31T11:00:45.694221Z",
     "shell.execute_reply": "2021-07-31T11:00:45.694692Z",
     "shell.execute_reply.started": "2021-07-31T10:58:16.296832Z"
    },
    "papermill": {
     "duration": 0.03729,
     "end_time": "2021-07-31T11:00:45.694881",
     "exception": false,
     "start_time": "2021-07-31T11:00:45.657591",
     "status": "completed"
    },
    "tags": []
   },
   "outputs": [],
   "source": [
    "test_data1 = test_data.drop([\"PassengerId\",\"Cabin\",\"Name\",\"Ticket\",\"Parch\"],axis=1)"
   ]
  },
  {
   "cell_type": "code",
   "execution_count": 16,
   "id": "460b0903",
   "metadata": {
    "execution": {
     "iopub.execute_input": "2021-07-31T11:00:45.758043Z",
     "iopub.status.busy": "2021-07-31T11:00:45.757115Z",
     "iopub.status.idle": "2021-07-31T11:00:45.770191Z",
     "shell.execute_reply": "2021-07-31T11:00:45.770679Z",
     "shell.execute_reply.started": "2021-07-31T10:58:16.485577Z"
    },
    "papermill": {
     "duration": 0.045728,
     "end_time": "2021-07-31T11:00:45.770847",
     "exception": false,
     "start_time": "2021-07-31T11:00:45.725119",
     "status": "completed"
    },
    "tags": []
   },
   "outputs": [
    {
     "name": "stdout",
     "output_type": "stream",
     "text": [
      "<class 'pandas.core.frame.DataFrame'>\n",
      "RangeIndex: 418 entries, 0 to 417\n",
      "Data columns (total 6 columns):\n",
      " #   Column    Non-Null Count  Dtype  \n",
      "---  ------    --------------  -----  \n",
      " 0   Pclass    418 non-null    int64  \n",
      " 1   Sex       418 non-null    object \n",
      " 2   Age       332 non-null    float64\n",
      " 3   SibSp     418 non-null    int64  \n",
      " 4   Fare      417 non-null    float64\n",
      " 5   Embarked  418 non-null    object \n",
      "dtypes: float64(2), int64(2), object(2)\n",
      "memory usage: 19.7+ KB\n"
     ]
    }
   ],
   "source": [
    "test_data1.info()"
   ]
  },
  {
   "cell_type": "markdown",
   "id": "1f1793c7",
   "metadata": {
    "execution": {
     "iopub.execute_input": "2021-07-30T19:28:47.481856Z",
     "iopub.status.busy": "2021-07-30T19:28:47.481478Z",
     "iopub.status.idle": "2021-07-30T19:28:47.488457Z",
     "shell.execute_reply": "2021-07-30T19:28:47.487207Z",
     "shell.execute_reply.started": "2021-07-30T19:28:47.481823Z"
    },
    "papermill": {
     "duration": 0.028737,
     "end_time": "2021-07-31T11:00:45.828704",
     "exception": false,
     "start_time": "2021-07-31T11:00:45.799967",
     "status": "completed"
    },
    "tags": []
   },
   "source": [
    "****Replacing null values in Age with mean age of the entire dataset****"
   ]
  },
  {
   "cell_type": "code",
   "execution_count": 17,
   "id": "37e14b3e",
   "metadata": {
    "execution": {
     "iopub.execute_input": "2021-07-31T11:00:45.891744Z",
     "iopub.status.busy": "2021-07-31T11:00:45.891131Z",
     "iopub.status.idle": "2021-07-31T11:00:45.895863Z",
     "shell.execute_reply": "2021-07-31T11:00:45.896295Z",
     "shell.execute_reply.started": "2021-07-31T10:58:16.863504Z"
    },
    "papermill": {
     "duration": 0.037049,
     "end_time": "2021-07-31T11:00:45.896447",
     "exception": false,
     "start_time": "2021-07-31T11:00:45.859398",
     "status": "completed"
    },
    "tags": []
   },
   "outputs": [],
   "source": [
    "test_data1[\"Age\"].fillna(\"34\", inplace = True)"
   ]
  },
  {
   "cell_type": "code",
   "execution_count": 18,
   "id": "d2788dee",
   "metadata": {
    "execution": {
     "iopub.execute_input": "2021-07-31T11:00:45.957743Z",
     "iopub.status.busy": "2021-07-31T11:00:45.957133Z",
     "iopub.status.idle": "2021-07-31T11:00:45.969568Z",
     "shell.execute_reply": "2021-07-31T11:00:45.969997Z",
     "shell.execute_reply.started": "2021-07-31T10:58:17.069976Z"
    },
    "papermill": {
     "duration": 0.044732,
     "end_time": "2021-07-31T11:00:45.970166",
     "exception": false,
     "start_time": "2021-07-31T11:00:45.925434",
     "status": "completed"
    },
    "tags": []
   },
   "outputs": [
    {
     "name": "stdout",
     "output_type": "stream",
     "text": [
      "<class 'pandas.core.frame.DataFrame'>\n",
      "RangeIndex: 418 entries, 0 to 417\n",
      "Data columns (total 6 columns):\n",
      " #   Column    Non-Null Count  Dtype  \n",
      "---  ------    --------------  -----  \n",
      " 0   Pclass    418 non-null    int64  \n",
      " 1   Sex       418 non-null    object \n",
      " 2   Age       418 non-null    object \n",
      " 3   SibSp     418 non-null    int64  \n",
      " 4   Fare      417 non-null    float64\n",
      " 5   Embarked  418 non-null    object \n",
      "dtypes: float64(1), int64(2), object(3)\n",
      "memory usage: 19.7+ KB\n"
     ]
    }
   ],
   "source": [
    "test_data1.info()"
   ]
  },
  {
   "cell_type": "markdown",
   "id": "3f240931",
   "metadata": {
    "papermill": {
     "duration": 0.028944,
     "end_time": "2021-07-31T11:00:46.028467",
     "exception": false,
     "start_time": "2021-07-31T11:00:45.999523",
     "status": "completed"
    },
    "tags": []
   },
   "source": [
    "****Replacing null values in fare with the mode fare of the dataset****"
   ]
  },
  {
   "cell_type": "code",
   "execution_count": 19,
   "id": "b8feee25",
   "metadata": {
    "execution": {
     "iopub.execute_input": "2021-07-31T11:00:46.090662Z",
     "iopub.status.busy": "2021-07-31T11:00:46.090055Z",
     "iopub.status.idle": "2021-07-31T11:00:46.094793Z",
     "shell.execute_reply": "2021-07-31T11:00:46.095255Z",
     "shell.execute_reply.started": "2021-07-31T10:58:17.464062Z"
    },
    "papermill": {
     "duration": 0.0378,
     "end_time": "2021-07-31T11:00:46.095430",
     "exception": false,
     "start_time": "2021-07-31T11:00:46.057630",
     "status": "completed"
    },
    "tags": []
   },
   "outputs": [],
   "source": [
    "test_data1[\"Fare\"].fillna(\"7.75\", inplace = True)"
   ]
  },
  {
   "cell_type": "code",
   "execution_count": 20,
   "id": "7361bd40",
   "metadata": {
    "execution": {
     "iopub.execute_input": "2021-07-31T11:00:46.158045Z",
     "iopub.status.busy": "2021-07-31T11:00:46.157407Z",
     "iopub.status.idle": "2021-07-31T11:00:46.170364Z",
     "shell.execute_reply": "2021-07-31T11:00:46.170929Z",
     "shell.execute_reply.started": "2021-07-31T10:58:17.702480Z"
    },
    "papermill": {
     "duration": 0.045968,
     "end_time": "2021-07-31T11:00:46.171102",
     "exception": false,
     "start_time": "2021-07-31T11:00:46.125134",
     "status": "completed"
    },
    "tags": []
   },
   "outputs": [
    {
     "name": "stdout",
     "output_type": "stream",
     "text": [
      "<class 'pandas.core.frame.DataFrame'>\n",
      "RangeIndex: 418 entries, 0 to 417\n",
      "Data columns (total 6 columns):\n",
      " #   Column    Non-Null Count  Dtype \n",
      "---  ------    --------------  ----- \n",
      " 0   Pclass    418 non-null    int64 \n",
      " 1   Sex       418 non-null    object\n",
      " 2   Age       418 non-null    object\n",
      " 3   SibSp     418 non-null    int64 \n",
      " 4   Fare      418 non-null    object\n",
      " 5   Embarked  418 non-null    object\n",
      "dtypes: int64(2), object(4)\n",
      "memory usage: 19.7+ KB\n"
     ]
    }
   ],
   "source": [
    "test_data1.info()"
   ]
  },
  {
   "cell_type": "markdown",
   "id": "c80664ae",
   "metadata": {
    "papermill": {
     "duration": 0.029568,
     "end_time": "2021-07-31T11:00:46.230651",
     "exception": false,
     "start_time": "2021-07-31T11:00:46.201083",
     "status": "completed"
    },
    "tags": []
   },
   "source": [
    "****Converting String values in Sex and Embarked to integer representatives****"
   ]
  },
  {
   "cell_type": "code",
   "execution_count": 21,
   "id": "4d0ac450",
   "metadata": {
    "execution": {
     "iopub.execute_input": "2021-07-31T11:00:46.293374Z",
     "iopub.status.busy": "2021-07-31T11:00:46.292829Z",
     "iopub.status.idle": "2021-07-31T11:00:46.300726Z",
     "shell.execute_reply": "2021-07-31T11:00:46.301179Z",
     "shell.execute_reply.started": "2021-07-31T10:58:18.100284Z"
    },
    "papermill": {
     "duration": 0.041083,
     "end_time": "2021-07-31T11:00:46.301356",
     "exception": false,
     "start_time": "2021-07-31T11:00:46.260273",
     "status": "completed"
    },
    "tags": []
   },
   "outputs": [],
   "source": [
    "test_data1['Sex'].replace('female', 0,inplace=True)\n",
    "test_data1['Sex'].replace('male', 1,inplace=True)\n",
    "test_data1['Embarked'].replace('S', 0,inplace=True)\n",
    "test_data1['Embarked'].replace('C', 1,inplace=True)\n",
    "test_data1['Embarked'].replace('Q', 2,inplace=True)"
   ]
  },
  {
   "cell_type": "code",
   "execution_count": 22,
   "id": "8d28979e",
   "metadata": {
    "execution": {
     "iopub.execute_input": "2021-07-31T11:00:46.364423Z",
     "iopub.status.busy": "2021-07-31T11:00:46.363841Z",
     "iopub.status.idle": "2021-07-31T11:00:46.367176Z",
     "shell.execute_reply": "2021-07-31T11:00:46.367653Z",
     "shell.execute_reply.started": "2021-07-31T10:58:18.304773Z"
    },
    "papermill": {
     "duration": 0.036732,
     "end_time": "2021-07-31T11:00:46.367815",
     "exception": false,
     "start_time": "2021-07-31T11:00:46.331083",
     "status": "completed"
    },
    "tags": []
   },
   "outputs": [],
   "source": [
    "x_test = test_data1"
   ]
  },
  {
   "cell_type": "markdown",
   "id": "b736ee10",
   "metadata": {
    "papermill": {
     "duration": 0.029223,
     "end_time": "2021-07-31T11:00:46.426941",
     "exception": false,
     "start_time": "2021-07-31T11:00:46.397718",
     "status": "completed"
    },
    "tags": []
   },
   "source": [
    "# **Building the model**"
   ]
  },
  {
   "cell_type": "code",
   "execution_count": 23,
   "id": "30ea5241",
   "metadata": {
    "execution": {
     "iopub.execute_input": "2021-07-31T11:00:46.488745Z",
     "iopub.status.busy": "2021-07-31T11:00:46.488145Z",
     "iopub.status.idle": "2021-07-31T11:00:46.491215Z",
     "shell.execute_reply": "2021-07-31T11:00:46.491665Z",
     "shell.execute_reply.started": "2021-07-31T10:58:18.709790Z"
    },
    "papermill": {
     "duration": 0.035462,
     "end_time": "2021-07-31T11:00:46.491820",
     "exception": false,
     "start_time": "2021-07-31T11:00:46.456358",
     "status": "completed"
    },
    "tags": []
   },
   "outputs": [],
   "source": [
    "log = LogisticRegression()"
   ]
  },
  {
   "cell_type": "markdown",
   "id": "bc5cac5f",
   "metadata": {
    "papermill": {
     "duration": 0.029121,
     "end_time": "2021-07-31T11:00:46.551269",
     "exception": false,
     "start_time": "2021-07-31T11:00:46.522148",
     "status": "completed"
    },
    "tags": []
   },
   "source": [
    "****Model fitting****"
   ]
  },
  {
   "cell_type": "code",
   "execution_count": 24,
   "id": "3afb8079",
   "metadata": {
    "execution": {
     "iopub.execute_input": "2021-07-31T11:00:46.614126Z",
     "iopub.status.busy": "2021-07-31T11:00:46.613522Z",
     "iopub.status.idle": "2021-07-31T11:00:46.825463Z",
     "shell.execute_reply": "2021-07-31T11:00:46.824995Z",
     "shell.execute_reply.started": "2021-07-31T10:58:21.029586Z"
    },
    "papermill": {
     "duration": 0.244123,
     "end_time": "2021-07-31T11:00:46.825620",
     "exception": false,
     "start_time": "2021-07-31T11:00:46.581497",
     "status": "completed"
    },
    "tags": []
   },
   "outputs": [
    {
     "data": {
      "text/plain": [
       "LogisticRegression()"
      ]
     },
     "execution_count": 24,
     "metadata": {},
     "output_type": "execute_result"
    }
   ],
   "source": [
    "log.fit(x_train,y_train)"
   ]
  },
  {
   "cell_type": "code",
   "execution_count": 25,
   "id": "7fdea230",
   "metadata": {
    "execution": {
     "iopub.execute_input": "2021-07-31T11:00:46.893000Z",
     "iopub.status.busy": "2021-07-31T11:00:46.892152Z",
     "iopub.status.idle": "2021-07-31T11:00:46.895780Z",
     "shell.execute_reply": "2021-07-31T11:00:46.896258Z",
     "shell.execute_reply.started": "2021-07-31T10:58:21.258059Z"
    },
    "papermill": {
     "duration": 0.040124,
     "end_time": "2021-07-31T11:00:46.896413",
     "exception": false,
     "start_time": "2021-07-31T11:00:46.856289",
     "status": "completed"
    },
    "tags": []
   },
   "outputs": [],
   "source": [
    "pred = log.predict(x_test)"
   ]
  },
  {
   "cell_type": "code",
   "execution_count": 26,
   "id": "666fdd64",
   "metadata": {
    "execution": {
     "iopub.execute_input": "2021-07-31T11:00:46.960870Z",
     "iopub.status.busy": "2021-07-31T11:00:46.959821Z",
     "iopub.status.idle": "2021-07-31T11:00:46.966202Z",
     "shell.execute_reply": "2021-07-31T11:00:46.966648Z",
     "shell.execute_reply.started": "2021-07-31T10:58:21.555641Z"
    },
    "papermill": {
     "duration": 0.039618,
     "end_time": "2021-07-31T11:00:46.966824",
     "exception": false,
     "start_time": "2021-07-31T11:00:46.927206",
     "status": "completed"
    },
    "tags": []
   },
   "outputs": [
    {
     "data": {
      "text/plain": [
       "array([0, 0, 0, 0, 1, 0, 1, 0, 1, 0, 0, 0, 1, 0, 1, 1, 0, 0, 1, 1, 0, 0,\n",
       "       1, 1, 1, 0, 1, 0, 0, 0, 0, 0, 0, 0, 1, 0, 1, 1, 0, 0, 0, 0, 0, 1,\n",
       "       1, 0, 0, 0, 1, 1, 0, 0, 1, 1, 0, 0, 0, 0, 0, 1, 0, 0, 0, 1, 1, 1,\n",
       "       1, 0, 1, 1, 1, 0, 1, 1, 1, 1, 0, 1, 0, 1, 0, 0, 0, 0, 0, 0, 1, 1,\n",
       "       1, 0, 1, 0, 1, 0, 1, 0, 1, 0, 1, 0, 1, 0, 0, 0, 1, 0, 0, 0, 0, 0,\n",
       "       0, 1, 1, 1, 1, 0, 0, 1, 1, 1, 1, 0, 1, 0, 0, 1, 0, 1, 0, 0, 0, 0,\n",
       "       1, 0, 0, 0, 0, 0, 1, 0, 0, 1, 0, 0, 0, 0, 0, 0, 0, 0, 1, 0, 0, 1,\n",
       "       0, 0, 1, 1, 0, 1, 1, 0, 1, 0, 0, 1, 0, 0, 1, 1, 0, 0, 0, 0, 0, 1,\n",
       "       1, 0, 1, 1, 0, 0, 1, 0, 1, 0, 1, 0, 0, 0, 0, 0, 0, 0, 0, 0, 1, 1,\n",
       "       0, 1, 1, 0, 0, 1, 0, 1, 1, 0, 1, 0, 0, 0, 0, 0, 0, 0, 1, 0, 1, 0,\n",
       "       1, 0, 1, 0, 1, 1, 0, 1, 0, 0, 0, 1, 0, 0, 0, 0, 0, 0, 1, 1, 1, 1,\n",
       "       0, 0, 0, 0, 1, 0, 1, 1, 1, 0, 1, 0, 0, 0, 0, 0, 1, 0, 0, 0, 1, 1,\n",
       "       0, 0, 0, 0, 1, 0, 0, 0, 1, 1, 0, 1, 0, 0, 0, 0, 1, 0, 1, 1, 1, 0,\n",
       "       0, 0, 0, 0, 0, 1, 0, 0, 0, 0, 1, 0, 0, 0, 0, 0, 0, 0, 1, 1, 0, 0,\n",
       "       0, 0, 0, 0, 0, 1, 1, 1, 0, 0, 0, 0, 0, 0, 0, 0, 1, 0, 1, 0, 0, 0,\n",
       "       1, 0, 0, 1, 0, 0, 0, 0, 0, 0, 0, 0, 0, 1, 0, 1, 0, 1, 0, 1, 1, 0,\n",
       "       0, 0, 1, 0, 1, 0, 0, 1, 0, 1, 1, 0, 1, 0, 0, 1, 1, 0, 0, 1, 0, 0,\n",
       "       1, 1, 0, 0, 0, 0, 0, 0, 1, 1, 0, 1, 0, 0, 0, 0, 1, 1, 0, 0, 0, 1,\n",
       "       0, 1, 0, 0, 1, 0, 1, 1, 0, 0, 0, 0, 1, 1, 1, 1, 1, 0, 1, 0, 0, 0])"
      ]
     },
     "execution_count": 26,
     "metadata": {},
     "output_type": "execute_result"
    }
   ],
   "source": [
    "pred"
   ]
  },
  {
   "cell_type": "code",
   "execution_count": 27,
   "id": "b6e9b9c7",
   "metadata": {
    "execution": {
     "iopub.execute_input": "2021-07-31T11:00:47.032566Z",
     "iopub.status.busy": "2021-07-31T11:00:47.031627Z",
     "iopub.status.idle": "2021-07-31T11:00:47.045090Z",
     "shell.execute_reply": "2021-07-31T11:00:47.045535Z",
     "shell.execute_reply.started": "2021-07-31T10:58:23.003080Z"
    },
    "papermill": {
     "duration": 0.048286,
     "end_time": "2021-07-31T11:00:47.045747",
     "exception": false,
     "start_time": "2021-07-31T11:00:46.997461",
     "status": "completed"
    },
    "tags": []
   },
   "outputs": [],
   "source": [
    "y_test = pd.read_csv(\"../input/titanic/gender_submission.csv\")"
   ]
  },
  {
   "cell_type": "code",
   "execution_count": 28,
   "id": "afad8383",
   "metadata": {
    "execution": {
     "iopub.execute_input": "2021-07-31T11:00:47.112393Z",
     "iopub.status.busy": "2021-07-31T11:00:47.111478Z",
     "iopub.status.idle": "2021-07-31T11:00:47.115677Z",
     "shell.execute_reply": "2021-07-31T11:00:47.116080Z",
     "shell.execute_reply.started": "2021-07-31T10:58:23.214241Z"
    },
    "papermill": {
     "duration": 0.039025,
     "end_time": "2021-07-31T11:00:47.116242",
     "exception": false,
     "start_time": "2021-07-31T11:00:47.077217",
     "status": "completed"
    },
    "tags": []
   },
   "outputs": [],
   "source": [
    "y_test1 = np.array(y_test[\"Survived\"])"
   ]
  },
  {
   "cell_type": "code",
   "execution_count": 29,
   "id": "d8485b82",
   "metadata": {
    "execution": {
     "iopub.execute_input": "2021-07-31T11:00:47.181886Z",
     "iopub.status.busy": "2021-07-31T11:00:47.180974Z",
     "iopub.status.idle": "2021-07-31T11:00:47.186403Z",
     "shell.execute_reply": "2021-07-31T11:00:47.187011Z",
     "shell.execute_reply.started": "2021-07-31T10:58:24.067568Z"
    },
    "papermill": {
     "duration": 0.04017,
     "end_time": "2021-07-31T11:00:47.187181",
     "exception": false,
     "start_time": "2021-07-31T11:00:47.147011",
     "status": "completed"
    },
    "tags": []
   },
   "outputs": [
    {
     "data": {
      "text/plain": [
       "0.9449760765550239"
      ]
     },
     "execution_count": 29,
     "metadata": {},
     "output_type": "execute_result"
    }
   ],
   "source": [
    "accuracy_score(y_test1,pred)"
   ]
  },
  {
   "cell_type": "markdown",
   "id": "872821ee",
   "metadata": {
    "papermill": {
     "duration": 0.030518,
     "end_time": "2021-07-31T11:00:47.248514",
     "exception": false,
     "start_time": "2021-07-31T11:00:47.217996",
     "status": "completed"
    },
    "tags": []
   },
   "source": [
    "# ****Creating the submission dataframe****"
   ]
  },
  {
   "cell_type": "code",
   "execution_count": 30,
   "id": "73569647",
   "metadata": {
    "execution": {
     "iopub.execute_input": "2021-07-31T11:00:47.318695Z",
     "iopub.status.busy": "2021-07-31T11:00:47.317777Z",
     "iopub.status.idle": "2021-07-31T11:00:47.321433Z",
     "shell.execute_reply": "2021-07-31T11:00:47.321882Z",
     "shell.execute_reply.started": "2021-07-31T10:58:24.943494Z"
    },
    "papermill": {
     "duration": 0.042866,
     "end_time": "2021-07-31T11:00:47.322058",
     "exception": false,
     "start_time": "2021-07-31T11:00:47.279192",
     "status": "completed"
    },
    "tags": []
   },
   "outputs": [
    {
     "data": {
      "text/html": [
       "<div>\n",
       "<style scoped>\n",
       "    .dataframe tbody tr th:only-of-type {\n",
       "        vertical-align: middle;\n",
       "    }\n",
       "\n",
       "    .dataframe tbody tr th {\n",
       "        vertical-align: top;\n",
       "    }\n",
       "\n",
       "    .dataframe thead th {\n",
       "        text-align: right;\n",
       "    }\n",
       "</style>\n",
       "<table border=\"1\" class=\"dataframe\">\n",
       "  <thead>\n",
       "    <tr style=\"text-align: right;\">\n",
       "      <th></th>\n",
       "      <th>Survived</th>\n",
       "    </tr>\n",
       "  </thead>\n",
       "  <tbody>\n",
       "    <tr>\n",
       "      <th>0</th>\n",
       "      <td>0</td>\n",
       "    </tr>\n",
       "    <tr>\n",
       "      <th>1</th>\n",
       "      <td>0</td>\n",
       "    </tr>\n",
       "    <tr>\n",
       "      <th>2</th>\n",
       "      <td>0</td>\n",
       "    </tr>\n",
       "    <tr>\n",
       "      <th>3</th>\n",
       "      <td>0</td>\n",
       "    </tr>\n",
       "    <tr>\n",
       "      <th>4</th>\n",
       "      <td>1</td>\n",
       "    </tr>\n",
       "    <tr>\n",
       "      <th>5</th>\n",
       "      <td>0</td>\n",
       "    </tr>\n",
       "    <tr>\n",
       "      <th>6</th>\n",
       "      <td>1</td>\n",
       "    </tr>\n",
       "    <tr>\n",
       "      <th>7</th>\n",
       "      <td>0</td>\n",
       "    </tr>\n",
       "    <tr>\n",
       "      <th>8</th>\n",
       "      <td>1</td>\n",
       "    </tr>\n",
       "    <tr>\n",
       "      <th>9</th>\n",
       "      <td>0</td>\n",
       "    </tr>\n",
       "  </tbody>\n",
       "</table>\n",
       "</div>"
      ],
      "text/plain": [
       "   Survived\n",
       "0         0\n",
       "1         0\n",
       "2         0\n",
       "3         0\n",
       "4         1\n",
       "5         0\n",
       "6         1\n",
       "7         0\n",
       "8         1\n",
       "9         0"
      ]
     },
     "execution_count": 30,
     "metadata": {},
     "output_type": "execute_result"
    }
   ],
   "source": [
    "Predictions = pd.DataFrame({'Survived': pred})\n",
    "Predictions.head(10)"
   ]
  },
  {
   "cell_type": "code",
   "execution_count": 31,
   "id": "bca3c361",
   "metadata": {
    "execution": {
     "iopub.execute_input": "2021-07-31T11:00:47.390671Z",
     "iopub.status.busy": "2021-07-31T11:00:47.390009Z",
     "iopub.status.idle": "2021-07-31T11:00:47.391939Z",
     "shell.execute_reply": "2021-07-31T11:00:47.392358Z",
     "shell.execute_reply.started": "2021-07-31T10:58:26.180496Z"
    },
    "papermill": {
     "duration": 0.038571,
     "end_time": "2021-07-31T11:00:47.392529",
     "exception": false,
     "start_time": "2021-07-31T11:00:47.353958",
     "status": "completed"
    },
    "tags": []
   },
   "outputs": [],
   "source": [
    "submission= pd.DataFrame({'PassengerId': test_data[\"PassengerId\"],'Survived': Predictions[\"Survived\"]})"
   ]
  },
  {
   "cell_type": "code",
   "execution_count": 32,
   "id": "adcaacc8",
   "metadata": {
    "execution": {
     "iopub.execute_input": "2021-07-31T11:00:47.458809Z",
     "iopub.status.busy": "2021-07-31T11:00:47.458208Z",
     "iopub.status.idle": "2021-07-31T11:00:47.470020Z",
     "shell.execute_reply": "2021-07-31T11:00:47.470577Z",
     "shell.execute_reply.started": "2021-07-31T10:58:27.390829Z"
    },
    "papermill": {
     "duration": 0.046588,
     "end_time": "2021-07-31T11:00:47.470745",
     "exception": false,
     "start_time": "2021-07-31T11:00:47.424157",
     "status": "completed"
    },
    "tags": []
   },
   "outputs": [
    {
     "name": "stdout",
     "output_type": "stream",
     "text": [
      "<class 'pandas.core.frame.DataFrame'>\n",
      "RangeIndex: 418 entries, 0 to 417\n",
      "Data columns (total 2 columns):\n",
      " #   Column       Non-Null Count  Dtype\n",
      "---  ------       --------------  -----\n",
      " 0   PassengerId  418 non-null    int64\n",
      " 1   Survived     418 non-null    int64\n",
      "dtypes: int64(2)\n",
      "memory usage: 6.7 KB\n"
     ]
    }
   ],
   "source": [
    "submission.info()"
   ]
  },
  {
   "cell_type": "code",
   "execution_count": 33,
   "id": "872a7f63",
   "metadata": {
    "execution": {
     "iopub.execute_input": "2021-07-31T11:00:47.537028Z",
     "iopub.status.busy": "2021-07-31T11:00:47.536339Z",
     "iopub.status.idle": "2021-07-31T11:00:47.545863Z",
     "shell.execute_reply": "2021-07-31T11:00:47.546320Z",
     "shell.execute_reply.started": "2021-07-31T10:58:28.043809Z"
    },
    "papermill": {
     "duration": 0.044588,
     "end_time": "2021-07-31T11:00:47.546507",
     "exception": false,
     "start_time": "2021-07-31T11:00:47.501919",
     "status": "completed"
    },
    "tags": []
   },
   "outputs": [
    {
     "data": {
      "text/html": [
       "<div>\n",
       "<style scoped>\n",
       "    .dataframe tbody tr th:only-of-type {\n",
       "        vertical-align: middle;\n",
       "    }\n",
       "\n",
       "    .dataframe tbody tr th {\n",
       "        vertical-align: top;\n",
       "    }\n",
       "\n",
       "    .dataframe thead th {\n",
       "        text-align: right;\n",
       "    }\n",
       "</style>\n",
       "<table border=\"1\" class=\"dataframe\">\n",
       "  <thead>\n",
       "    <tr style=\"text-align: right;\">\n",
       "      <th></th>\n",
       "      <th>PassengerId</th>\n",
       "      <th>Survived</th>\n",
       "    </tr>\n",
       "  </thead>\n",
       "  <tbody>\n",
       "    <tr>\n",
       "      <th>0</th>\n",
       "      <td>892</td>\n",
       "      <td>0</td>\n",
       "    </tr>\n",
       "    <tr>\n",
       "      <th>1</th>\n",
       "      <td>893</td>\n",
       "      <td>0</td>\n",
       "    </tr>\n",
       "    <tr>\n",
       "      <th>2</th>\n",
       "      <td>894</td>\n",
       "      <td>0</td>\n",
       "    </tr>\n",
       "    <tr>\n",
       "      <th>3</th>\n",
       "      <td>895</td>\n",
       "      <td>0</td>\n",
       "    </tr>\n",
       "    <tr>\n",
       "      <th>4</th>\n",
       "      <td>896</td>\n",
       "      <td>1</td>\n",
       "    </tr>\n",
       "    <tr>\n",
       "      <th>5</th>\n",
       "      <td>897</td>\n",
       "      <td>0</td>\n",
       "    </tr>\n",
       "    <tr>\n",
       "      <th>6</th>\n",
       "      <td>898</td>\n",
       "      <td>1</td>\n",
       "    </tr>\n",
       "    <tr>\n",
       "      <th>7</th>\n",
       "      <td>899</td>\n",
       "      <td>0</td>\n",
       "    </tr>\n",
       "    <tr>\n",
       "      <th>8</th>\n",
       "      <td>900</td>\n",
       "      <td>1</td>\n",
       "    </tr>\n",
       "    <tr>\n",
       "      <th>9</th>\n",
       "      <td>901</td>\n",
       "      <td>0</td>\n",
       "    </tr>\n",
       "  </tbody>\n",
       "</table>\n",
       "</div>"
      ],
      "text/plain": [
       "   PassengerId  Survived\n",
       "0          892         0\n",
       "1          893         0\n",
       "2          894         0\n",
       "3          895         0\n",
       "4          896         1\n",
       "5          897         0\n",
       "6          898         1\n",
       "7          899         0\n",
       "8          900         1\n",
       "9          901         0"
      ]
     },
     "execution_count": 33,
     "metadata": {},
     "output_type": "execute_result"
    }
   ],
   "source": [
    "submission.head(10)"
   ]
  },
  {
   "cell_type": "code",
   "execution_count": 34,
   "id": "70a2cedc",
   "metadata": {
    "execution": {
     "iopub.execute_input": "2021-07-31T11:00:47.613816Z",
     "iopub.status.busy": "2021-07-31T11:00:47.612862Z",
     "iopub.status.idle": "2021-07-31T11:00:47.620467Z",
     "shell.execute_reply": "2021-07-31T11:00:47.620962Z",
     "shell.execute_reply.started": "2021-07-31T10:58:33.783544Z"
    },
    "papermill": {
     "duration": 0.042458,
     "end_time": "2021-07-31T11:00:47.621138",
     "exception": false,
     "start_time": "2021-07-31T11:00:47.578680",
     "status": "completed"
    },
    "tags": []
   },
   "outputs": [],
   "source": [
    "submission.to_csv('submission9.csv', index = False)"
   ]
  },
  {
   "cell_type": "markdown",
   "id": "7a63f96c",
   "metadata": {
    "papermill": {
     "duration": 0.031659,
     "end_time": "2021-07-31T11:00:47.685111",
     "exception": false,
     "start_time": "2021-07-31T11:00:47.653452",
     "status": "completed"
    },
    "tags": []
   },
   "source": [
    "# ****Please Upvote if you like my work, Thank you!!****"
   ]
  }
 ],
 "metadata": {
  "kernelspec": {
   "display_name": "Python 3",
   "language": "python",
   "name": "python3"
  },
  "language_info": {
   "codemirror_mode": {
    "name": "ipython",
    "version": 3
   },
   "file_extension": ".py",
   "mimetype": "text/x-python",
   "name": "python",
   "nbconvert_exporter": "python",
   "pygments_lexer": "ipython3",
   "version": "3.7.10"
  },
  "papermill": {
   "default_parameters": {},
   "duration": 13.460945,
   "end_time": "2021-07-31T11:00:48.427067",
   "environment_variables": {},
   "exception": null,
   "input_path": "__notebook__.ipynb",
   "output_path": "__notebook__.ipynb",
   "parameters": {},
   "start_time": "2021-07-31T11:00:34.966122",
   "version": "2.3.3"
  }
 },
 "nbformat": 4,
 "nbformat_minor": 5
}
